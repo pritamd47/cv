{
 "cells": [
  {
   "cell_type": "markdown",
   "metadata": {
    "deletable": true,
    "editable": true
   },
   "source": [
    "# Publications markdown generator for academicpages\n",
    "\n",
    "Takes a TSV of publications with metadata and converts them for use with [academicpages.github.io](academicpages.github.io). This is an interactive Jupyter notebook ([see more info here](http://jupyter-notebook-beginner-guide.readthedocs.io/en/latest/what_is_jupyter.html)). The core python code is also in `publications.py`. Run either from the `markdown_generator` folder after replacing `publications.tsv` with one containing your data.\n",
    "\n",
    "TODO: Make this work with BibTex and other databases of citations, rather than Stuart's non-standard TSV format and citation style.\n"
   ]
  },
  {
   "cell_type": "markdown",
   "metadata": {},
   "source": [
    "## Data format\n",
    "\n",
    "The TSV needs to have the following columns: pub_date, title, venue, excerpt, citation, site_url, and paper_url, with a header at the top. \n",
    "\n",
    "- `excerpt` and `paper_url` can be blank, but the others must have values. \n",
    "- `pub_date` must be formatted as YYYY-MM-DD.\n",
    "- `url_slug` will be the descriptive part of the .md file and the permalink URL for the page about the paper. The .md file will be `YYYY-MM-DD-[url_slug].md` and the permalink will be `https://[yourdomain]/publications/YYYY-MM-DD-[url_slug]`\n",
    "\n",
    "This is how the raw file looks (it doesn't look pretty, use a spreadsheet or other program to edit and create)."
   ]
  },
  {
   "cell_type": "code",
   "execution_count": 11,
   "metadata": {
    "collapsed": false
   },
   "outputs": [
    {
     "name": "stdout",
     "output_type": "stream",
     "text": [
      "cat: publications-auto.tsv: No such file or directory\n"
     ]
    }
   ],
   "source": [
    "!cat publications-auto.tsv"
   ]
  },
  {
   "cell_type": "markdown",
   "metadata": {},
   "source": [
    "## Import pandas\n",
    "\n",
    "We are using the very handy pandas library for dataframes."
   ]
  },
  {
   "cell_type": "code",
   "execution_count": 12,
   "metadata": {
    "collapsed": true,
    "deletable": true,
    "editable": true
   },
   "outputs": [],
   "source": [
    "import pandas as pd"
   ]
  },
  {
   "cell_type": "markdown",
   "metadata": {},
   "source": [
    "## Import TSV\n",
    "\n",
    "Pandas makes this easy with the read_csv function. We are using a TSV, so we specify the separator as a tab, or `\\t`.\n",
    "\n",
    "I found it important to put this data in a tab-separated values format, because there are a lot of commas in this kind of data and comma-separated values can get messed up. However, you can modify the import statement, as pandas also has read_excel(), read_json(), and others."
   ]
  },
  {
   "cell_type": "code",
   "execution_count": 17,
   "metadata": {
    "collapsed": false,
    "deletable": true,
    "editable": true
   },
   "outputs": [
    {
     "name": "stderr",
     "output_type": "stream",
     "text": [
      "/var/folders/2y/h464qnw52wq0lwvhs1s03dy40000gp/T/ipykernel_4596/2711942550.py:1: UserWarning: Could not infer format, so each element will be parsed individually, falling back to `dateutil`. To ensure parsing is consistent and as-expected, please specify a format.\n",
      "  publications = pd.read_csv(\"publications.tsv\", sep=\"\\t\", header=0, parse_dates=['pub_date'])\n"
     ]
    },
    {
     "data": {
      "text/html": [
       "<div>\n",
       "<style scoped>\n",
       "    .dataframe tbody tr th:only-of-type {\n",
       "        vertical-align: middle;\n",
       "    }\n",
       "\n",
       "    .dataframe tbody tr th {\n",
       "        vertical-align: top;\n",
       "    }\n",
       "\n",
       "    .dataframe thead th {\n",
       "        text-align: right;\n",
       "    }\n",
       "</style>\n",
       "<table border=\"1\" class=\"dataframe\">\n",
       "  <thead>\n",
       "    <tr style=\"text-align: right;\">\n",
       "      <th></th>\n",
       "      <th>pub_date</th>\n",
       "      <th>title</th>\n",
       "      <th>venue</th>\n",
       "      <th>excerpt</th>\n",
       "      <th>citation</th>\n",
       "      <th>url_slug</th>\n",
       "      <th>paper_url</th>\n",
       "      <th>slides_url</th>\n",
       "    </tr>\n",
       "  </thead>\n",
       "  <tbody>\n",
       "    <tr>\n",
       "      <th>0</th>\n",
       "      <td>2019-06-15</td>\n",
       "      <td>Glacier-Surface Velocity Derived Ice Volume an...</td>\n",
       "      <td>Frontiers in Earth Science</td>\n",
       "      <td>NaN</td>\n",
       "      <td>Sattar, A., Goswami, A., Kulkarni, A. V., &amp; Da...</td>\n",
       "      <td>glacier-surface-velocity</td>\n",
       "      <td>https://doi.org/10.3389/feart.2019.00105</td>\n",
       "      <td>NaN</td>\n",
       "    </tr>\n",
       "    <tr>\n",
       "      <th>1</th>\n",
       "      <td>2022-05-15</td>\n",
       "      <td>Reservoir Assessment Tool 2.0: Stakeholder dri...</td>\n",
       "      <td>Environmental Modelling &amp; Software</td>\n",
       "      <td>NaN</td>\n",
       "      <td>Das, P., Hossain, F., Khan, S., Biswas, N. K.,...</td>\n",
       "      <td>reservoir-assessment-tool-2</td>\n",
       "      <td>https://doi.org/10.1016/j.envsoft.2022.105533</td>\n",
       "      <td>NaN</td>\n",
       "    </tr>\n",
       "    <tr>\n",
       "      <th>2</th>\n",
       "      <td>2022-12-15</td>\n",
       "      <td>Building User-Readiness for Satellite Earth Ob...</td>\n",
       "      <td>AGU Advances</td>\n",
       "      <td>NaN</td>\n",
       "      <td>Hossain, F., Das, P., Srinivasan, M., Tsontos,...</td>\n",
       "      <td>swot-mission-user-readiness</td>\n",
       "      <td>https://doi.org/10.1029/2022AV000680</td>\n",
       "      <td>NaN</td>\n",
       "    </tr>\n",
       "    <tr>\n",
       "      <th>3</th>\n",
       "      <td>2023-03-15</td>\n",
       "      <td>Understanding Volume Estimation Uncertainty of...</td>\n",
       "      <td>IEEE Journal of Selected Topics in Applied Ear...</td>\n",
       "      <td>NaN</td>\n",
       "      <td>Khan, S., Hossain, F., Pavelsky, T., Parkins, ...</td>\n",
       "      <td>lakes-wetlands-volume-estimation</td>\n",
       "      <td>https://doi.org/10.1109/JSTARS.2023.3250354</td>\n",
       "      <td>NaN</td>\n",
       "    </tr>\n",
       "    <tr>\n",
       "      <th>4</th>\n",
       "      <td>2023-12-15</td>\n",
       "      <td>Reservoir Assessment Tool Version 3.0: A Scala...</td>\n",
       "      <td>Geoscientific Model Development Discussions</td>\n",
       "      <td>NaN</td>\n",
       "      <td>Minocha, S., Hossain, F., Das, P., Suresh, S.,...</td>\n",
       "      <td>reservoir-assessment-tool-3</td>\n",
       "      <td>https://doi.org/10.5194/gmd-2023-130</td>\n",
       "      <td>NaN</td>\n",
       "    </tr>\n",
       "    <tr>\n",
       "      <th>5</th>\n",
       "      <td>2024-01-15</td>\n",
       "      <td>Satellite-based Tracking of Reservoir Operatio...</td>\n",
       "      <td>Remote Sensing of Environment</td>\n",
       "      <td>NaN</td>\n",
       "      <td>Suresh, S., Hossain, F., Minocha, S., Das, P.,...</td>\n",
       "      <td>satellite-reservoir-flood-management</td>\n",
       "      <td>https://doi.org/10.1016/j.rse.2024.114149</td>\n",
       "      <td>NaN</td>\n",
       "    </tr>\n",
       "    <tr>\n",
       "      <th>6</th>\n",
       "      <td>2024-01-15</td>\n",
       "      <td>ResORR: A globally scalable and satellite data...</td>\n",
       "      <td>Environmental Modelling &amp; Software</td>\n",
       "      <td>NaN</td>\n",
       "      <td>Das, P., Hossain, F., Minocha, S., Suresh, S.,...</td>\n",
       "      <td>resorr-global-river-flow</td>\n",
       "      <td>https://doi.org/10.1016/j.envsoft.2024.106026</td>\n",
       "      <td>NaN</td>\n",
       "    </tr>\n",
       "    <tr>\n",
       "      <th>7</th>\n",
       "      <td>2024-01-15</td>\n",
       "      <td>Assessing Snow Cover Patterns in the Indus-Gan...</td>\n",
       "      <td>Environmental Challenges</td>\n",
       "      <td>NaN</td>\n",
       "      <td>Dixit, A., Goswami, A., Jain, S., &amp; Das, P. (2...</td>\n",
       "      <td>snow-cover-hindu-kush-himalayas</td>\n",
       "      <td>https://doi.org/10.1016/j.envc.2023.100834</td>\n",
       "      <td>NaN</td>\n",
       "    </tr>\n",
       "    <tr>\n",
       "      <th>8</th>\n",
       "      <td>2024-03-15</td>\n",
       "      <td>Reservoir Assessment Tool (RAT): A Python Pack...</td>\n",
       "      <td>Digital Water</td>\n",
       "      <td>NaN</td>\n",
       "      <td>S. Minocha, Das, P., and F. Hossain. Reservoir...</td>\n",
       "      <td>reservoir-assessment-tool-package</td>\n",
       "      <td>NaN</td>\n",
       "      <td>NaN</td>\n",
       "    </tr>\n",
       "    <tr>\n",
       "      <th>9</th>\n",
       "      <td>2024-04-15</td>\n",
       "      <td>Remote Sensing of Snow Cover Dynamics and Clim...</td>\n",
       "      <td>Climate Dynamics</td>\n",
       "      <td>NaN</td>\n",
       "      <td>Dixit, A., Goswami, A., Jain, S. K., &amp; Das, P....</td>\n",
       "      <td>snow-cover-river-basins</td>\n",
       "      <td>https://doi.org/10.1007/s00382-024-07280-5</td>\n",
       "      <td>NaN</td>\n",
       "    </tr>\n",
       "    <tr>\n",
       "      <th>10</th>\n",
       "      <td>2024-11-15</td>\n",
       "      <td>Forecast informed reservoir operations within ...</td>\n",
       "      <td>Journal of Hydrologic Engineering</td>\n",
       "      <td>NaN</td>\n",
       "      <td>Das, P., S. Suresh, F. Hossain, V. Balakrishna...</td>\n",
       "      <td>forecasting-informed-reservoir-operations</td>\n",
       "      <td>NaN</td>\n",
       "      <td>NaN</td>\n",
       "    </tr>\n",
       "    <tr>\n",
       "      <th>11</th>\n",
       "      <td>2024-12-28</td>\n",
       "      <td>Multi-satellite Tracking of Surface Water Stor...</td>\n",
       "      <td>Earth and Space Science, Science from the Surf...</td>\n",
       "      <td>NaN</td>\n",
       "      <td>Das, P., and F. Hossain. (2024). Multi-satelli...</td>\n",
       "      <td>swot-storage</td>\n",
       "      <td>NaN</td>\n",
       "      <td>NaN</td>\n",
       "    </tr>\n",
       "    <tr>\n",
       "      <th>12</th>\n",
       "      <td>2024-10-03</td>\n",
       "      <td>Reconstruction of the Hydro_Thermal Behavior o...</td>\n",
       "      <td>Earth's Future</td>\n",
       "      <td>NaN</td>\n",
       "      <td>Darkwah, G. K., Hossain, F., Tchervenski, V., ...</td>\n",
       "      <td>thorr</td>\n",
       "      <td>https://doi.org/10.1029/2024EF004815</td>\n",
       "      <td>NaN</td>\n",
       "    </tr>\n",
       "  </tbody>\n",
       "</table>\n",
       "</div>"
      ],
      "text/plain": [
       "     pub_date                                              title  \\\n",
       "0  2019-06-15  Glacier-Surface Velocity Derived Ice Volume an...   \n",
       "1  2022-05-15  Reservoir Assessment Tool 2.0: Stakeholder dri...   \n",
       "2  2022-12-15  Building User-Readiness for Satellite Earth Ob...   \n",
       "3  2023-03-15  Understanding Volume Estimation Uncertainty of...   \n",
       "4  2023-12-15  Reservoir Assessment Tool Version 3.0: A Scala...   \n",
       "5  2024-01-15  Satellite-based Tracking of Reservoir Operatio...   \n",
       "6  2024-01-15  ResORR: A globally scalable and satellite data...   \n",
       "7  2024-01-15  Assessing Snow Cover Patterns in the Indus-Gan...   \n",
       "8  2024-03-15  Reservoir Assessment Tool (RAT): A Python Pack...   \n",
       "9  2024-04-15  Remote Sensing of Snow Cover Dynamics and Clim...   \n",
       "10 2024-11-15  Forecast informed reservoir operations within ...   \n",
       "11 2024-12-28  Multi-satellite Tracking of Surface Water Stor...   \n",
       "12 2024-10-03  Reconstruction of the Hydro_Thermal Behavior o...   \n",
       "\n",
       "                                                venue  excerpt  \\\n",
       "0                          Frontiers in Earth Science      NaN   \n",
       "1                  Environmental Modelling & Software      NaN   \n",
       "2                                        AGU Advances      NaN   \n",
       "3   IEEE Journal of Selected Topics in Applied Ear...      NaN   \n",
       "4         Geoscientific Model Development Discussions      NaN   \n",
       "5                       Remote Sensing of Environment      NaN   \n",
       "6                  Environmental Modelling & Software      NaN   \n",
       "7                            Environmental Challenges      NaN   \n",
       "8                                       Digital Water      NaN   \n",
       "9                                    Climate Dynamics      NaN   \n",
       "10                  Journal of Hydrologic Engineering      NaN   \n",
       "11  Earth and Space Science, Science from the Surf...      NaN   \n",
       "12                                     Earth's Future      NaN   \n",
       "\n",
       "                                             citation  \\\n",
       "0   Sattar, A., Goswami, A., Kulkarni, A. V., & Da...   \n",
       "1   Das, P., Hossain, F., Khan, S., Biswas, N. K.,...   \n",
       "2   Hossain, F., Das, P., Srinivasan, M., Tsontos,...   \n",
       "3   Khan, S., Hossain, F., Pavelsky, T., Parkins, ...   \n",
       "4   Minocha, S., Hossain, F., Das, P., Suresh, S.,...   \n",
       "5   Suresh, S., Hossain, F., Minocha, S., Das, P.,...   \n",
       "6   Das, P., Hossain, F., Minocha, S., Suresh, S.,...   \n",
       "7   Dixit, A., Goswami, A., Jain, S., & Das, P. (2...   \n",
       "8   S. Minocha, Das, P., and F. Hossain. Reservoir...   \n",
       "9   Dixit, A., Goswami, A., Jain, S. K., & Das, P....   \n",
       "10  Das, P., S. Suresh, F. Hossain, V. Balakrishna...   \n",
       "11  Das, P., and F. Hossain. (2024). Multi-satelli...   \n",
       "12  Darkwah, G. K., Hossain, F., Tchervenski, V., ...   \n",
       "\n",
       "                                     url_slug  \\\n",
       "0                    glacier-surface-velocity   \n",
       "1                 reservoir-assessment-tool-2   \n",
       "2                 swot-mission-user-readiness   \n",
       "3            lakes-wetlands-volume-estimation   \n",
       "4                 reservoir-assessment-tool-3   \n",
       "5        satellite-reservoir-flood-management   \n",
       "6                    resorr-global-river-flow   \n",
       "7             snow-cover-hindu-kush-himalayas   \n",
       "8           reservoir-assessment-tool-package   \n",
       "9                     snow-cover-river-basins   \n",
       "10  forecasting-informed-reservoir-operations   \n",
       "11                               swot-storage   \n",
       "12                                      thorr   \n",
       "\n",
       "                                        paper_url  slides_url  \n",
       "0        https://doi.org/10.3389/feart.2019.00105         NaN  \n",
       "1   https://doi.org/10.1016/j.envsoft.2022.105533         NaN  \n",
       "2            https://doi.org/10.1029/2022AV000680         NaN  \n",
       "3     https://doi.org/10.1109/JSTARS.2023.3250354         NaN  \n",
       "4            https://doi.org/10.5194/gmd-2023-130         NaN  \n",
       "5       https://doi.org/10.1016/j.rse.2024.114149         NaN  \n",
       "6   https://doi.org/10.1016/j.envsoft.2024.106026         NaN  \n",
       "7      https://doi.org/10.1016/j.envc.2023.100834         NaN  \n",
       "8                                             NaN         NaN  \n",
       "9      https://doi.org/10.1007/s00382-024-07280-5         NaN  \n",
       "10                                            NaN         NaN  \n",
       "11                                            NaN         NaN  \n",
       "12           https://doi.org/10.1029/2024EF004815         NaN  "
      ]
     },
     "execution_count": 17,
     "metadata": {},
     "output_type": "execute_result"
    }
   ],
   "source": [
    "publications = pd.read_csv(\"publications.tsv\", sep=\"\\t\", header=0, parse_dates=['pub_date'])\n",
    "publications\n"
   ]
  },
  {
   "cell_type": "markdown",
   "metadata": {},
   "source": [
    "## Escape special characters\n",
    "\n",
    "YAML is very picky about how it takes a valid string, so we are replacing single and double quotes (and ampersands) with their HTML encoded equivilents. This makes them look not so readable in raw format, but they are parsed and rendered nicely."
   ]
  },
  {
   "cell_type": "code",
   "execution_count": 18,
   "metadata": {
    "collapsed": true,
    "deletable": true,
    "editable": true
   },
   "outputs": [],
   "source": [
    "html_escape_table = {\n",
    "    \"&\": \"&amp;\",\n",
    "    '\"': \"&quot;\",\n",
    "    \"'\": \"&apos;\"\n",
    "    }\n",
    "\n",
    "def html_escape(text):\n",
    "    \"\"\"Produce entities within text.\"\"\"\n",
    "    return \"\".join(html_escape_table.get(c,c) for c in text)"
   ]
  },
  {
   "cell_type": "markdown",
   "metadata": {},
   "source": [
    "## Creating the markdown files\n",
    "\n",
    "This is where the heavy lifting is done. This loops through all the rows in the TSV dataframe, then starts to concatentate a big string (```md```) that contains the markdown for each type. It does the YAML metadata first, then does the description for the individual page."
   ]
  },
  {
   "cell_type": "code",
   "execution_count": 19,
   "metadata": {
    "collapsed": false,
    "deletable": true,
    "editable": true
   },
   "outputs": [],
   "source": [
    "import os\n",
    "for row, item in publications.iterrows():\n",
    "    \n",
    "    md_filename = str(item.pub_date.year) + \"-\" + item.url_slug + \".md\"\n",
    "    html_filename = str(item.pub_date.year) + \"-\" + item.url_slug\n",
    "    year = item.pub_date.year\n",
    "    \n",
    "    ## YAML variables\n",
    "    \n",
    "    md = \"---\\ntitle: \\\"\"   + item.title + '\"\\n'\n",
    "    \n",
    "    md += \"\"\"collection: publications\"\"\"\n",
    "\n",
    "    md += \"\"\"\\ncategory: \"\"\" + item.category\n",
    "    \n",
    "    md += \"\"\"\\npermalink: /publication/\"\"\" + html_filename\n",
    "    \n",
    "    if len(str(item.excerpt)) > 5:\n",
    "        md += \"\\nexcerpt: '\" + html_escape(item.excerpt) + \"'\"\n",
    "    \n",
    "    md += \"\\ndate: \" + str(item.pub_date.date()) \n",
    "    \n",
    "    md += \"\\nvenue: '\" + html_escape(item.venue) + \"'\"\n",
    "    \n",
    "    if len(str(item.slides_url)) > 5:\n",
    "        md += \"\\nslidesurl: '\" + item.slides_url + \"'\"\n",
    "\n",
    "    if len(str(item.paper_url)) > 5:\n",
    "        md += \"\\npaperurl: '\" + item.paper_url + \"'\"\n",
    "    \n",
    "    md += \"\\ncitation: '\" + html_escape(item.citation) + \"'\"\n",
    "    \n",
    "    md += \"\\n---\"\n",
    "    \n",
    "    ## Markdown description for individual page\n",
    "        \n",
    "    if len(str(item.excerpt)) > 5:\n",
    "        md += \"\\n\" + html_escape(item.excerpt) + \"\\n\"\n",
    "\n",
    "    if len(str(item.slides_url)) > 5:\n",
    "        md += \"\\n[Download slides here](\" + item.slides_url + \")\\n\" \n",
    "\n",
    "    if len(str(item.paper_url)) > 5:\n",
    "        md += \"\\n[Download paper here](\" + item.paper_url + \")\\n\" \n",
    "    \n",
    "    md_filename = os.path.basename(md_filename)\n",
    "       \n",
    "    with open(\"../_publications/\" + md_filename, 'w') as f:\n",
    "        f.write(md)"
   ]
  },
  {
   "cell_type": "markdown",
   "metadata": {},
   "source": [
    "These files are in the publications directory, one directory below where we're working from."
   ]
  },
  {
   "cell_type": "code",
   "execution_count": 16,
   "metadata": {
    "collapsed": false,
    "deletable": true,
    "editable": true
   },
   "outputs": [
    {
     "name": "stdout",
     "output_type": "stream",
     "text": [
      "2019-glacier-surface-velocity.md\n",
      "2022-reservoir-assessment-tool-2.md\n",
      "2022-swot-mission-user-readiness.md\n",
      "2023-lakes-wetlands-volume-estimation.md\n",
      "2023-reservoir-assessment-tool-3.md\n",
      "2024-forecasting-informed-reservoir-operations.md\n",
      "2024-reservoir-assessment-tool-package.md\n",
      "2024-resorr-global-river-flow.md\n",
      "2024-satellite-reservoir-flood-management.md\n",
      "2024-snow-cover-hindu-kush-himalayas.md\n",
      "2024-snow-cover-river-basins.md\n",
      "2024-swot-storage.md\n",
      "2024-thorr.md\n"
     ]
    }
   ],
   "source": [
    "!ls ../_publications/"
   ]
  },
  {
   "cell_type": "code",
   "execution_count": 16,
   "metadata": {
    "collapsed": false,
    "deletable": true,
    "editable": true
   },
   "outputs": [
    {
     "name": "stdout",
     "output_type": "stream",
     "text": [
      "---\n",
      "title: \"Paper Title Number 1\"\n",
      "collection: publications\n",
      "permalink: /publication/2009-10-01-paper-title-number-1\n",
      "excerpt: 'This paper is about the number 1. The number 2 is left for future work.'\n",
      "date: 2009-10-01\n",
      "venue: 'Journal 1'\n",
      "slidesurl: 'http://academicpages.github.io/files/slides1.pdf'\n",
      "paperurl: 'http://academicpages.github.io/files/paper1.pdf'\n",
      "citation: 'Your Name, You. (2009). &quot;Paper Title Number 1.&quot; <i>Journal 1</i>. 1(1).'\n",
      "---\n",
      "This paper is about the number 1. The number 2 is left for future work.\n",
      "\n",
      "[Download slides here](http://academicpages.github.io/files/slides1.pdf)\n",
      "\n",
      "[Download paper here](http://academicpages.github.io/files/paper1.pdf)\n",
      "\n",
      "Recommended citation: Your Name, You. (2009). \"Paper Title Number 1.\" <i>Journal 1</i>. 1(1)."
     ]
    }
   ],
   "source": [
    "!cat ../_publications/2009-10-01-paper-title-number-1.md"
   ]
  },
  {
   "cell_type": "markdown",
   "metadata": {
    "collapsed": true,
    "deletable": true,
    "editable": true
   },
   "source": [
    "# Do the opposite: generate a TSV from a list of markdown files"
   ]
  },
  {
   "cell_type": "code",
   "execution_count": 10,
   "metadata": {},
   "outputs": [
    {
     "name": "stdout",
     "output_type": "stream",
     "text": [
      "Error parsing YAML in file /Users/pdas47/cv/_publications/2024-damnet.md: while parsing a block mapping\n",
      "  in \"<unicode string>\", line 2, column 1:\n",
      "    title: \"Damnet: A visualization  ... \n",
      "    ^\n",
      "expected <block end>, but found '<scalar>'\n",
      "  in \"<unicode string>\", line 11, column 112:\n",
      "     ... s as transit hubs for the world's water. Journal of Visualizatio ... \n",
      "                                         ^\n",
      "Error parsing YAML in file /Users/pdas47/cv/_publications/2024-thorr.md: while parsing a block mapping\n",
      "  in \"<unicode string>\", line 2, column 1:\n",
      "    title: \"Reconstruction of the Hy ... \n",
      "    ^\n",
      "expected <block end>, but found '<scalar>'\n",
      "  in \"<unicode string>\", line 8, column 15:\n",
      "    venue: 'Earth's Future'\n",
      "                  ^\n",
      "TSV file created: /Users/pdas47/cv/markdown_generator/publications-auto.tsv\n"
     ]
    }
   ],
   "source": [
    "import os\n",
    "import yaml\n",
    "import pandas as pd\n",
    "\n",
    "# Define the directory containing the publication files\n",
    "publications_dir = '/Users/pdas47/cv/_publications'\n",
    "\n",
    "# Define the output TSV file\n",
    "output_tsv = '/Users/pdas47/cv/markdown_generator/publications-auto.tsv'\n",
    "\n",
    "# Define the header for the TSV file\n",
    "header = ['pub_date', 'title', 'venue', 'excerpt', 'citation', 'url_slug', 'paper_url', 'slides_url']\n",
    "\n",
    "# Initialize a list to store the publication data\n",
    "publications_data = []\n",
    "\n",
    "# Function to extract metadata from the markdown file\n",
    "def extract_metadata(filepath):\n",
    "    with open(filepath, 'r') as file:\n",
    "        content = file.read()\n",
    "        try:\n",
    "            front_matter = content.split('---')[1]\n",
    "            metadata = yaml.safe_load(front_matter)\n",
    "            return metadata\n",
    "        except yaml.YAMLError as e:\n",
    "            print(f\"Error parsing YAML in file {filepath}: {e}\")\n",
    "            return {}\n",
    "\n",
    "# Iterate over the files in the publications directory\n",
    "for filename in os.listdir(publications_dir):\n",
    "    if filename.endswith('.md'):\n",
    "        filepath = os.path.join(publications_dir, filename)\n",
    "        metadata = extract_metadata(filepath)\n",
    "        pub_date = metadata.get('date', '')\n",
    "        title = metadata.get('title', '')\n",
    "        venue = metadata.get('venue', '')\n",
    "        excerpt = metadata.get('excerpt', '')\n",
    "        citation = metadata.get('citation', '')\n",
    "        url_slug = metadata.get('permalink', '').split('/')[-1]\n",
    "        paper_url = metadata.get('paperurl', '')\n",
    "        slides_url = metadata.get('slidesurl', '')\n",
    "        publications_data.append([pub_date, title, venue, excerpt, citation, url_slug, paper_url, slides_url])\n",
    "\n",
    "# Create a DataFrame and write to TSV\n",
    "df = pd.DataFrame(publications_data, columns=header)\n",
    "df.to_csv(output_tsv, sep='\\t', index=False)\n",
    "\n",
    "print(f'TSV file created: {output_tsv}')"
   ]
  },
  {
   "cell_type": "code",
   "execution_count": null,
   "metadata": {},
   "outputs": [],
   "source": []
  },
  {
   "cell_type": "code",
   "execution_count": null,
   "metadata": {},
   "outputs": [],
   "source": []
  }
 ],
 "metadata": {
  "kernelspec": {
   "display_name": "base",
   "language": "python",
   "name": "python3"
  },
  "language_info": {
   "codemirror_mode": {
    "name": "ipython",
    "version": 3
   },
   "file_extension": ".py",
   "mimetype": "text/x-python",
   "name": "python",
   "nbconvert_exporter": "python",
   "pygments_lexer": "ipython3",
   "version": "3.12.0"
  }
 },
 "nbformat": 4,
 "nbformat_minor": 0
}
